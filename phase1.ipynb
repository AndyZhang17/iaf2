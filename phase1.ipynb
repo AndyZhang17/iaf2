{
 "cells": [
  {
   "cell_type": "code",
   "execution_count": 1,
   "metadata": {
    "collapsed": false
   },
   "outputs": [],
   "source": [
    "# %matplotlib inline\n",
    "import os\n",
    "os.environ['THEANO_FLAGS'] = \"mode=FAST_RUN,device=cpu,floatX=float32\"\n",
    "import theano\n",
    "import theano.tensor as T\n",
    "import network\n",
    "import network.normFlow as nf\n",
    "import config\n",
    "import utils\n",
    "import utils.mathT as mathT\n",
    "import utils.theanoGeneral as utilsT\n",
    "import numpy as np\n",
    "import utils.optimizers as optimizers"
   ]
  },
  {
   "cell_type": "code",
   "execution_count": 2,
   "metadata": {
    "collapsed": false
   },
   "outputs": [],
   "source": [
    "DIM = 2\n",
    "SAMPLINGNUM = 10\n",
    "\n",
    "# defining target model, here is a known gaussian\n",
    "mean = utilsT.sharedf([2.0,1.0])\n",
    "varmat = utilsT.sharedf( np.eye(DIM)/2. )\n",
    "logTarget = mathT.multiNormInit(mean,varmat)"
   ]
  },
  {
   "cell_type": "code",
   "execution_count": 3,
   "metadata": {
    "collapsed": true
   },
   "outputs": [],
   "source": [
    "iaf = nf.NormFlowModel(2,4,noisestd=1.)\n",
    "e = iaf.getNoiseVar(SAMPLINGNUM)\n",
    "z, logqz = iaf.reparam(e)"
   ]
  },
  {
   "cell_type": "code",
   "execution_count": 4,
   "metadata": {
    "collapsed": true
   },
   "outputs": [],
   "source": [
    "logpz = logTarget(z)\n",
    "cost = T.mean( logqz - logpz ) # KL cost"
   ]
  },
  {
   "cell_type": "code",
   "execution_count": 5,
   "metadata": {
    "collapsed": false
   },
   "outputs": [
    {
     "name": "stdout",
     "output_type": "stream",
     "text": [
      "[<TensorType(float32, matrix)>, <TensorType(float32, vector)>, <TensorType(float32, vector)>, <TensorType(float32, matrix)>, <TensorType(float32, vector)>, <TensorType(float32, vector)>, <TensorType(float32, matrix)>, <TensorType(float32, vector)>, <TensorType(float32, vector)>, <TensorType(float32, matrix)>, <TensorType(float32, vector)>, <TensorType(float32, vector)>]\n"
     ]
    }
   ],
   "source": [
    "params = iaf.getParams()\n",
    "print params"
   ]
  },
  {
   "cell_type": "code",
   "execution_count": 6,
   "metadata": {
    "collapsed": false
   },
   "outputs": [],
   "source": [
    "grads = [ T.grad(cost,p,consider_constant=[e]) for p in params ]\n",
    "opt = optimizers.SGD(lr=0.05,momentum=0.9,decay=0.001)\n",
    "updates = opt.getUpdates(params,grads)\n",
    "estep = theano.function(inputs=[],outputs=[cost],updates=updates)"
   ]
  },
  {
   "cell_type": "code",
   "execution_count": null,
   "metadata": {
    "collapsed": false
   },
   "outputs": [],
   "source": []
  },
  {
   "cell_type": "code",
   "execution_count": null,
   "metadata": {
    "collapsed": true
   },
   "outputs": [],
   "source": []
  }
 ],
 "metadata": {
  "kernelspec": {
   "display_name": "Python 2",
   "language": "python",
   "name": "python2"
  },
  "language_info": {
   "codemirror_mode": {
    "name": "ipython",
    "version": 2
   },
   "file_extension": ".py",
   "mimetype": "text/x-python",
   "name": "python",
   "nbconvert_exporter": "python",
   "pygments_lexer": "ipython2",
   "version": "2.7.10"
  }
 },
 "nbformat": 4,
 "nbformat_minor": 0
}
