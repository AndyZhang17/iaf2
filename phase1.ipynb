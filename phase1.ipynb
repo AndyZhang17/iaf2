{
 "cells": [
  {
   "cell_type": "code",
   "execution_count": 1,
   "metadata": {
    "collapsed": true
   },
   "outputs": [
    {
     "name": "stderr",
     "output_type": "stream",
     "text": [
      "/Library/Python/2.7/site-packages/matplotlib/font_manager.py:273: UserWarning: Matplotlib is building the font cache using fc-list. This may take a moment.\n",
      "  warnings.warn('Matplotlib is building the font cache using fc-list. This may take a moment.')\n"
     ]
    }
   ],
   "source": [
    "#\n",
    "# phase1:\n",
    "#   Gaussian Mixture Model (GMM) distribution approximating\n",
    "#\n",
    "\n",
    "%matplotlib inline\n",
    "import os\n",
    "os.environ['THEANO_FLAGS'] = \"mode=FAST_RUN,device=cpu,floatX=float32\"\n",
    "import theano\n",
    "import theano.tensor as T\n",
    "import config\n",
    "import numpy as np\n",
    "import matplotlib.pyplot as plt"
   ]
  },
  {
   "cell_type": "code",
   "execution_count": 2,
   "metadata": {
    "collapsed": true
   },
   "outputs": [],
   "source": [
    "import network\n",
    "import network.normFlow as nf\n",
    "import utils\n",
    "import utils.mathT as mathT\n",
    "import utils.theanoGeneral as utilsT\n",
    "import utils.optimizers as optimizers\n",
    "import utils.plotZ as plotZ"
   ]
  },
  {
   "cell_type": "code",
   "execution_count": 10,
   "metadata": {
    "collapsed": false
   },
   "outputs": [],
   "source": [
    "DIM = 2\n",
    "SAMPLINGNUM = 10000\n",
    "floatX = utils.floatX\n",
    "\n",
    "# defining target model, here is a known gaussian\n",
    "# mean = np.asarray([1,-2.0],dtype=floatX)\n",
    "# varmat = np.eye(DIM)/2.\n",
    "# logTarget = mathT.multiNormInit(mean,varmat)\n",
    "\n",
    "means   = np.asarray( [[1.0,2.0],[-1.5,-1.5],[-2.0,1.0]] )\n",
    "varmats = np.asarray( [np.eye(2)/2, np.eye(2)/3, np.eye(2)/4] ) \n",
    "weights = np.asarray( [0.4,0.3,0.3] )\n",
    "logTarget = mathT.multiGmm(means, varmats,weights)"
   ]
  },
  {
   "cell_type": "code",
   "execution_count": 11,
   "metadata": {
    "collapsed": false
   },
   "outputs": [],
   "source": [
    "# construction variational model\n",
    "iaf = nf.NormFlowModel( dim=2, numlayers=4,noisestd=1. )  #(4./DIM)**.5\n",
    "e = iaf.getNoiseVar(SAMPLINGNUM)\n",
    "z, logqz = iaf.reparam(e)\n",
    "\n",
    "# setting cost variable\n",
    "logpz = logTarget(z)\n",
    "cost = T.mean( logqz - logpz ) # KL cost\n",
    "\n",
    "params = iaf.getParams()\n",
    "grads = [ T.grad(cost,p,consider_constant=[e]) for p in params ]"
   ]
  },
  {
   "cell_type": "code",
   "execution_count": 17,
   "metadata": {
    "collapsed": false
   },
   "outputs": [],
   "source": [
    "# optimisation setup\n",
    "iaf.reInit()\n",
    "# opt = optimizers.Adadelta(params)\n",
    "opt = optimizers.SGD(params,lr=0.05,momentum=0.5,decay=0.001)\n",
    "updates = opt.getUpdates(params,grads)\n",
    "\n",
    "outputs = [ cost, T.mean(logpz), T.mean(logqz) ]\n",
    "estep = theano.function(inputs=[],outputs=outputs,updates=updates)"
   ]
  },
  {
   "cell_type": "code",
   "execution_count": null,
   "metadata": {
    "collapsed": true
   },
   "outputs": [],
   "source": []
  },
  {
   "cell_type": "code",
   "execution_count": 18,
   "metadata": {
    "collapsed": false
   },
   "outputs": [],
   "source": [
    "# training\n",
    "NUMITER = 1000\n",
    "keys = ['cost','pz','qz']\n",
    "record = {}\n",
    "for k in keys:\n",
    "    record[k] = []\n",
    "for i in range(NUMITER):\n",
    "    out = estep()\n",
    "    \n",
    "    for i,q in enumerate(out):\n",
    "        record[keys[i]].append( q )\n",
    "        \n",
    "for k in keys:\n",
    "    record[k] = np.asarray( record[k] )"
   ]
  },
  {
   "cell_type": "code",
   "execution_count": 19,
   "metadata": {
    "collapsed": false
   },
   "outputs": [
    {
     "data": {
      "image/png": "[encoded data removed]",
      "text/plain": [
       "<matplotlib.figure.Figure at 0x10e34b910>"
      ]
     },
     "metadata": {},
     "output_type": "display_data"
    }
   ],
   "source": [
    "# plt.plot( range(NUMITER), record['cost'],'-' )\n",
    "# plt.show()\n",
    "xs = range(NUMITER)\n",
    "plt.plot( xs, record['pz'], '-', label='log-pz')\n",
    "plt.plot( xs, record['qz'], '-', label='log-qz')\n",
    "plt.plot( xs, record['cost'], '-', label='logqz-logpz')\n",
    "plt.legend()\n",
    "plt.show()\n",
    "# plt.plot( xs, record['mu'][:,0], '-', label='mean-z0')\n",
    "# plt.plot( xs, record['mu'][:,1], '-', label='mean-z1')\n",
    "# plt.legend()\n",
    "# plt.show()"
   ]
  },
  {
   "cell_type": "code",
   "execution_count": null,
   "metadata": {
    "collapsed": false
   },
   "outputs": [],
   "source": []
  },
  {
   "cell_type": "code",
   "execution_count": 20,
   "metadata": {
    "collapsed": false
   },
   "outputs": [],
   "source": [
    "e2 = iaf.getNoiseVar(1000)\n",
    "z2, logqz2 = iaf.reparam(e2)\n",
    "fez2 = theano.function(inputs=[],outputs=[e2,z2])"
   ]
  },
  {
   "cell_type": "code",
   "execution_count": 21,
   "metadata": {
    "collapsed": false
   },
   "outputs": [
    {
     "name": "stdout",
     "output_type": "stream",
     "text": [
      "(1000, 2) (1000, 2)\n"
     ]
    },
    {
     "data": {
      "image/png": "[encoded data removed]",
      "text/plain": [
       "<matplotlib.figure.Figure at 0x10df2de50>"
      ]
     },
     "metadata": {},
     "output_type": "display_data"
    },
    {
     "name": "stdout",
     "output_type": "stream",
     "text": [
      "(1000, 2)\n",
      "[-0.54489523  0.93300259]\n"
     ]
    }
   ],
   "source": [
    "es, zs = fez2()\n",
    "print es.shape, zs.shape\n",
    "# plt.plot(es[:,0],es[:,1],'.',label='e')\n",
    "plt.plot(zs[:,0],zs[:,1],'.',label='z')\n",
    "plt.legend(loc=1)\n",
    "plt.show()\n",
    "print zs.shape\n",
    "print np.mean(zs,axis=0)"
   ]
  },
  {
   "cell_type": "code",
   "execution_count": null,
   "metadata": {
    "collapsed": false
   },
   "outputs": [],
   "source": []
  },
  {
   "cell_type": "code",
   "execution_count": null,
   "metadata": {
    "collapsed": true
   },
   "outputs": [],
   "source": []
  },
  {
   "cell_type": "code",
   "execution_count": null,
   "metadata": {
    "collapsed": true
   },
   "outputs": [],
   "source": []
  }
 ],
 "metadata": {
  "kernelspec": {
   "display_name": "Python 2",
   "language": "python",
   "name": "python2"
  },
  "language_info": {
   "codemirror_mode": {
    "name": "ipython",
    "version": 2
   },
   "file_extension": ".py",
   "mimetype": "text/x-python",
   "name": "python",
   "nbconvert_exporter": "python",
   "pygments_lexer": "ipython2",
   "version": "2.7.10"
  }
 },
 "nbformat": 4,
 "nbformat_minor": 0
}
