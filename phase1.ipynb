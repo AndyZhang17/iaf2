{
 "cells": [
  {
   "cell_type": "code",
   "execution_count": 1,
   "metadata": {
    "collapsed": false
   },
   "outputs": [
    {
     "name": "stderr",
     "output_type": "stream",
     "text": [
      "/Library/Python/2.7/site-packages/matplotlib/font_manager.py:273: UserWarning: Matplotlib is building the font cache using fc-list. This may take a moment.\n",
      "  warnings.warn('Matplotlib is building the font cache using fc-list. This may take a moment.')\n"
     ]
    }
   ],
   "source": [
    "%matplotlib inline\n",
    "import os\n",
    "os.environ['THEANO_FLAGS'] = \"mode=FAST_RUN,device=cpu,floatX=float32\"\n",
    "import theano\n",
    "import theano.tensor as T\n",
    "import network\n",
    "import network.normFlow as nf\n",
    "import config\n",
    "import utils\n",
    "import utils.mathT as mathT\n",
    "import utils.theanoGeneral as utilsT\n",
    "import numpy as np\n",
    "import utils.optimizers as optimizers\n",
    "import utils.plotZ as plotZ\n",
    "import matplotlib.pyplot as plt"
   ]
  },
  {
   "cell_type": "code",
   "execution_count": 2,
   "metadata": {
    "collapsed": false
   },
   "outputs": [],
   "source": [
    "DIM = 2\n",
    "SAMPLINGNUM = 1000\n",
    "\n",
    "# defining target model, here is a known gaussian\n",
    "mean = utilsT.sharedf([2.0,1.0])\n",
    "varmat = utilsT.sharedf( np.eye(DIM)/2. )\n",
    "logTarget = mathT.multiNormInit(mean,varmat)"
   ]
  },
  {
   "cell_type": "code",
   "execution_count": 3,
   "metadata": {
    "collapsed": true
   },
   "outputs": [],
   "source": [
    "# construction variational model\n",
    "iaf = nf.NormFlowModel(2,4,noisestd=1.)\n",
    "e = iaf.getNoiseVar(SAMPLINGNUM)\n",
    "z, logqz = iaf.reparam(e)"
   ]
  },
  {
   "cell_type": "code",
   "execution_count": 4,
   "metadata": {
    "collapsed": true
   },
   "outputs": [],
   "source": [
    "# setting cost variable\n",
    "logpz = logTarget(z)\n",
    "cost = T.mean( logqz - logpz ) # KL cost"
   ]
  },
  {
   "cell_type": "code",
   "execution_count": 5,
   "metadata": {
    "collapsed": false
   },
   "outputs": [],
   "source": [
    "params = iaf.getParams()\n",
    "grads = [ T.grad(cost,p,consider_constant=[e]) for p in params ]"
   ]
  },
  {
   "cell_type": "code",
   "execution_count": 6,
   "metadata": {
    "collapsed": false
   },
   "outputs": [],
   "source": [
    "iaf.reInit()\n",
    "opt = optimizers.SGD(lr=0.05,momentum=0.9,decay=0.001)\n",
    "updates = opt.getUpdates(params,grads)\n",
    "estep = theano.function(inputs=[],outputs=[cost,opt.lr,opt.it],updates=updates)"
   ]
  },
  {
   "cell_type": "code",
   "execution_count": null,
   "metadata": {
    "collapsed": true
   },
   "outputs": [],
   "source": []
  },
  {
   "cell_type": "code",
   "execution_count": 7,
   "metadata": {
    "collapsed": false
   },
   "outputs": [],
   "source": [
    "# training\n",
    "NUMITER = 1000\n",
    "record = {'cost':[],'lr':[],'iter':[]}\n",
    "for i in range(NUMITER):\n",
    "    [c,lr,it] = estep()\n",
    "    record['cost'].append(c)\n",
    "    record['lr'].append(lr)\n",
    "    record['iter'].append(it)"
   ]
  },
  {
   "cell_type": "code",
   "execution_count": 12,
   "metadata": {
    "collapsed": false
   },
   "outputs": [
    {
     "data": {
      "image/png": "[encoded data removed]",
      "text/plain": [
       "<matplotlib.figure.Figure at 0x110c08e10>"
      ]
     },
     "metadata": {},
     "output_type": "display_data"
    }
   ],
   "source": [
    "plt.plot( range(NUMITER), record['lr'],'-' )\n",
    "plt.plot( range(NUMITER), np.asarray(record['iter'])/10000,'-' )\n",
    "plt.show()"
   ]
  },
  {
   "cell_type": "code",
   "execution_count": 40,
   "metadata": {
    "collapsed": false
   },
   "outputs": [],
   "source": [
    "e2 = iaf.getNoiseVar(1000)\n",
    "z2, logqz2 = iaf.reparam(e2)\n",
    "fez2 = theano.function(inputs=[],outputs=[e2,z2])"
   ]
  },
  {
   "cell_type": "code",
   "execution_count": 41,
   "metadata": {
    "collapsed": false
   },
   "outputs": [
    {
     "name": "stdout",
     "output_type": "stream",
     "text": [
      "(1000, 2) (1000, 2)\n"
     ]
    },
    {
     "data": {
      "image/png": "[encoded data removed]",
      "text/plain": [
       "<matplotlib.figure.Figure at 0x1129a4610>"
      ]
     },
     "metadata": {},
     "output_type": "display_data"
    }
   ],
   "source": [
    "es, zs = fez2()\n",
    "print es.shape, zs.shape\n",
    "# plt.plot(es[:,0],es[:,1],'.',label='e')\n",
    "plt.plot(zs[:,0],zs[:,1],'.',label='z')\n",
    "plt.legend(loc=1)\n",
    "plt.show()"
   ]
  },
  {
   "cell_type": "code",
   "execution_count": 42,
   "metadata": {
    "collapsed": false
   },
   "outputs": [
    {
     "data": {
      "image/png": "[encoded data removed]",
      "text/plain": [
       "<matplotlib.figure.Figure at 0x11430be50>"
      ]
     },
     "metadata": {},
     "output_type": "display_data"
    }
   ],
   "source": [
    "plt.plot( range(NUMITER), record['cost'],'-' )\n",
    "plt.show()"
   ]
  },
  {
   "cell_type": "code",
   "execution_count": 43,
   "metadata": {
    "collapsed": false
   },
   "outputs": [
    {
     "name": "stdout",
     "output_type": "stream",
     "text": [
      "[array(6.454113038069517), array(1.7879938692028523), array(-0.17326862912614524), array(-0.9710110542532076), array(-4.018740672137563), array(-11.705495259397338), array(-25.82188272819), array(-51.001321025783085), array(-inf), array(nan), array(nan), array(nan), array(nan), array(nan), array(nan), array(nan), array(nan), array(nan), array(nan), array(nan), array(nan), array(nan), array(nan), array(nan), array(nan), array(nan), array(nan), array(nan), array(nan), array(nan), array(nan), array(nan), array(nan), array(nan), array(nan), array(nan), array(nan), array(nan), array(nan), array(nan), array(nan), array(nan), array(nan), array(nan), array(nan), array(nan), array(nan), array(nan), array(nan), array(nan), array(nan), array(nan), array(nan), array(nan), array(nan), array(nan), array(nan), array(nan), array(nan), array(nan), array(nan), array(nan), array(nan), array(nan), array(nan), array(nan), array(nan), array(nan), array(nan), array(nan), array(nan), array(nan), array(nan), array(nan), array(nan), array(nan), array(nan), array(nan), array(nan), array(nan), array(nan), array(nan), array(nan), array(nan), array(nan), array(nan), array(nan), array(nan), array(nan), array(nan), array(nan), array(nan), array(nan), array(nan), array(nan), array(nan), array(nan), array(nan), array(nan), array(nan), array(nan), array(nan), array(nan), array(nan), array(nan), array(nan), array(nan), array(nan), array(nan), array(nan), array(nan), array(nan), array(nan), array(nan), array(nan), array(nan), array(nan), array(nan), array(nan), array(nan), array(nan), array(nan), array(nan), array(nan), array(nan), array(nan), array(nan), array(nan), array(nan), array(nan), array(nan), array(nan), array(nan), array(nan), array(nan), array(nan), array(nan), array(nan), array(nan), array(nan), array(nan), array(nan), array(nan), array(nan), array(nan), array(nan), array(nan), array(nan), array(nan), array(nan), array(nan), array(nan), array(nan), array(nan), array(nan), array(nan), array(nan), array(nan), array(nan), array(nan), array(nan), array(nan), array(nan), array(nan), array(nan), array(nan), array(nan), array(nan), array(nan), array(nan), array(nan), array(nan), array(nan), array(nan), array(nan), array(nan), array(nan), array(nan), array(nan), array(nan), array(nan), array(nan), array(nan), array(nan), array(nan), array(nan), array(nan), array(nan), array(nan), array(nan), array(nan), array(nan), array(nan), array(nan), array(nan), array(nan), array(nan), array(nan), array(nan), array(nan), array(nan), array(nan), array(nan), array(nan), array(nan), array(nan), array(nan), array(nan), array(nan), array(nan), array(nan), array(nan), array(nan), array(nan), array(nan), array(nan), array(nan), array(nan), array(nan), array(nan), array(nan), array(nan), array(nan), array(nan), array(nan), array(nan), array(nan), array(nan), array(nan), array(nan), array(nan), array(nan), array(nan), array(nan), array(nan), array(nan), array(nan), array(nan), array(nan), array(nan), array(nan), array(nan), array(nan), array(nan), array(nan), array(nan), array(nan), array(nan), array(nan), array(nan), array(nan), array(nan), array(nan), array(nan), array(nan), array(nan), array(nan), array(nan), array(nan), array(nan), array(nan), array(nan), array(nan), array(nan), array(nan), array(nan), array(nan), array(nan), array(nan), array(nan), array(nan), array(nan), array(nan), array(nan), array(nan), array(nan), array(nan), array(nan), array(nan), array(nan), array(nan), array(nan), array(nan), array(nan), array(nan), array(nan), array(nan), array(nan), array(nan), array(nan), array(nan), array(nan), array(nan), array(nan), array(nan), array(nan), array(nan), array(nan), array(nan), array(nan), array(nan), array(nan), array(nan), array(nan), array(nan), array(nan), array(nan), array(nan), array(nan), array(nan), array(nan), array(nan), array(nan), array(nan), array(nan), array(nan), array(nan), array(nan), array(nan), array(nan), array(nan), array(nan), array(nan), array(nan), array(nan), array(nan), array(nan), array(nan), array(nan), array(nan), array(nan), array(nan), array(nan), array(nan), array(nan), array(nan), array(nan), array(nan), array(nan), array(nan), array(nan), array(nan), array(nan), array(nan), array(nan), array(nan), array(nan), array(nan), array(nan), array(nan), array(nan), array(nan), array(nan), array(nan), array(nan), array(nan), array(nan), array(nan), array(nan), array(nan), array(nan), array(nan), array(nan), array(nan), array(nan), array(nan), array(nan), array(nan), array(nan), array(nan), array(nan), array(nan), array(nan), array(nan), array(nan), array(nan), array(nan), array(nan), array(nan), array(nan), array(nan), array(nan), array(nan), array(nan), array(nan), array(nan), array(nan), array(nan), array(nan), array(nan), array(nan), array(nan), array(nan), array(nan), array(nan), array(nan), array(nan), array(nan), array(nan), array(nan), array(nan), array(nan), array(nan), array(nan), array(nan), array(nan), array(nan), array(nan), array(nan), array(nan), array(nan), array(nan), array(nan), array(nan), array(nan), array(nan), array(nan), array(nan), array(nan), array(nan), array(nan), array(nan), array(nan), array(nan), array(nan), array(nan), array(nan), array(nan), array(nan), array(nan), array(nan), array(nan), array(nan), array(nan), array(nan), array(nan), array(nan), array(nan), array(nan), array(nan), array(nan), array(nan), array(nan), array(nan), array(nan), array(nan), array(nan), array(nan), array(nan), array(nan), array(nan), array(nan), array(nan), array(nan), array(nan), array(nan), array(nan), array(nan), array(nan), array(nan), array(nan), array(nan), array(nan), array(nan), array(nan), array(nan), array(nan), array(nan), array(nan), array(nan), array(nan), array(nan), array(nan), array(nan), array(nan), array(nan), array(nan), array(nan), array(nan), array(nan), array(nan), array(nan), array(nan), array(nan), array(nan), array(nan), array(nan), array(nan), array(nan), array(nan), array(nan), array(nan), array(nan), array(nan), array(nan), array(nan), array(nan), array(nan), array(nan), array(nan), array(nan), array(nan), array(nan), array(nan), array(nan), array(nan), array(nan), array(nan), array(nan), array(nan), array(nan), array(nan), array(nan), array(nan), array(nan), array(nan), array(nan), array(nan), array(nan), array(nan), array(nan), array(nan), array(nan), array(nan), array(nan), array(nan), array(nan), array(nan), array(nan), array(nan), array(nan), array(nan), array(nan), array(nan), array(nan), array(nan), array(nan), array(nan), array(nan), array(nan), array(nan), array(nan), array(nan), array(nan), array(nan), array(nan), array(nan), array(nan), array(nan), array(nan), array(nan), array(nan), array(nan), array(nan), array(nan), array(nan), array(nan), array(nan), array(nan), array(nan), array(nan), array(nan), array(nan), array(nan), array(nan), array(nan), array(nan), array(nan), array(nan), array(nan), array(nan), array(nan), array(nan), array(nan), array(nan), array(nan), array(nan), array(nan), array(nan), array(nan), array(nan), array(nan), array(nan), array(nan), array(nan), array(nan), array(nan), array(nan), array(nan), array(nan), array(nan), array(nan), array(nan), array(nan), array(nan), array(nan), array(nan), array(nan), array(nan), array(nan), array(nan), array(nan), array(nan), array(nan), array(nan), array(nan), array(nan), array(nan), array(nan), array(nan), array(nan), array(nan), array(nan), array(nan), array(nan), array(nan), array(nan), array(nan), array(nan), array(nan), array(nan), array(nan), array(nan), array(nan), array(nan), array(nan), array(nan), array(nan), array(nan), array(nan), array(nan), array(nan), array(nan), array(nan), array(nan), array(nan), array(nan), array(nan), array(nan), array(nan), array(nan), array(nan), array(nan), array(nan), array(nan), array(nan), array(nan), array(nan), array(nan), array(nan), array(nan), array(nan), array(nan), array(nan), array(nan), array(nan), array(nan), array(nan), array(nan), array(nan), array(nan), array(nan), array(nan), array(nan), array(nan), array(nan), array(nan), array(nan), array(nan), array(nan), array(nan), array(nan), array(nan), array(nan), array(nan), array(nan), array(nan), array(nan), array(nan), array(nan), array(nan), array(nan), array(nan), array(nan), array(nan), array(nan), array(nan), array(nan), array(nan), array(nan), array(nan), array(nan), array(nan), array(nan), array(nan), array(nan), array(nan), array(nan), array(nan), array(nan), array(nan), array(nan), array(nan), array(nan), array(nan), array(nan), array(nan), array(nan), array(nan), array(nan), array(nan), array(nan), array(nan), array(nan), array(nan), array(nan), array(nan), array(nan), array(nan), array(nan), array(nan), array(nan), array(nan), array(nan), array(nan), array(nan), array(nan), array(nan), array(nan), array(nan), array(nan), array(nan), array(nan), array(nan), array(nan), array(nan), array(nan), array(nan), array(nan), array(nan), array(nan), array(nan), array(nan), array(nan), array(nan), array(nan), array(nan), array(nan), array(nan), array(nan), array(nan), array(nan), array(nan), array(nan), array(nan), array(nan), array(nan), array(nan), array(nan), array(nan), array(nan), array(nan), array(nan), array(nan), array(nan), array(nan), array(nan), array(nan), array(nan), array(nan), array(nan), array(nan), array(nan), array(nan), array(nan), array(nan), array(nan), array(nan), array(nan), array(nan), array(nan), array(nan), array(nan), array(nan), array(nan), array(nan), array(nan), array(nan), array(nan), array(nan), array(nan), array(nan), array(nan), array(nan), array(nan), array(nan), array(nan), array(nan), array(nan), array(nan), array(nan), array(nan), array(nan), array(nan), array(nan), array(nan), array(nan), array(nan), array(nan), array(nan), array(nan), array(nan), array(nan), array(nan), array(nan), array(nan), array(nan), array(nan), array(nan), array(nan), array(nan), array(nan), array(nan), array(nan), array(nan), array(nan), array(nan), array(nan), array(nan), array(nan), array(nan), array(nan), array(nan), array(nan), array(nan), array(nan), array(nan), array(nan), array(nan), array(nan), array(nan), array(nan), array(nan), array(nan), array(nan), array(nan), array(nan), array(nan), array(nan), array(nan), array(nan), array(nan), array(nan), array(nan), array(nan), array(nan), array(nan), array(nan), array(nan), array(nan), array(nan), array(nan), array(nan), array(nan), array(nan), array(nan), array(nan), array(nan), array(nan), array(nan), array(nan), array(nan), array(nan), array(nan), array(nan), array(nan), array(nan), array(nan), array(nan), array(nan), array(nan), array(nan), array(nan), array(nan), array(nan), array(nan), array(nan), array(nan), array(nan), array(nan), array(nan), array(nan), array(nan), array(nan), array(nan), array(nan), array(nan), array(nan), array(nan), array(nan), array(nan), array(nan), array(nan), array(nan), array(nan), array(nan), array(nan), array(nan), array(nan), array(nan), array(nan), array(nan), array(nan), array(nan), array(nan), array(nan), array(nan), array(nan), array(nan), array(nan), array(nan), array(nan), array(nan), array(nan), array(nan), array(nan), array(nan), array(nan), array(nan), array(nan), array(nan), array(nan), array(nan), array(nan), array(nan), array(nan), array(nan), array(nan), array(nan), array(nan), array(nan), array(nan), array(nan), array(nan), array(nan), array(nan), array(nan), array(nan), array(nan), array(nan), array(nan), array(nan), array(nan), array(nan), array(nan), array(nan), array(nan), array(nan), array(nan), array(nan), array(nan), array(nan), array(nan), array(nan), array(nan), array(nan), array(nan), array(nan), array(nan), array(nan), array(nan), array(nan), array(nan), array(nan), array(nan), array(nan), array(nan), array(nan), array(nan), array(nan), array(nan), array(nan), array(nan), array(nan), array(nan), array(nan), array(nan), array(nan), array(nan), array(nan), array(nan), array(nan), array(nan), array(nan), array(nan), array(nan), array(nan), array(nan), array(nan), array(nan)]\n"
     ]
    }
   ],
   "source": [
    "print record['cost']"
   ]
  },
  {
   "cell_type": "code",
   "execution_count": null,
   "metadata": {
    "collapsed": true
   },
   "outputs": [],
   "source": []
  }
 ],
 "metadata": {
  "kernelspec": {
   "display_name": "Python 2",
   "language": "python",
   "name": "python2"
  },
  "language_info": {
   "codemirror_mode": {
    "name": "ipython",
    "version": 2
   },
   "file_extension": ".py",
   "mimetype": "text/x-python",
   "name": "python",
   "nbconvert_exporter": "python",
   "pygments_lexer": "ipython2",
   "version": "2.7.10"
  }
 },
 "nbformat": 4,
 "nbformat_minor": 0
}
