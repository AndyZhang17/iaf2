{
 "cells": [
  {
   "cell_type": "code",
   "execution_count": 1,
   "metadata": {
    "collapsed": false
   },
   "outputs": [
    {
     "name": "stderr",
     "output_type": "stream",
     "text": [
      "/Library/Python/2.7/site-packages/matplotlib/font_manager.py:273: UserWarning: Matplotlib is building the font cache using fc-list. This may take a moment.\n",
      "  warnings.warn('Matplotlib is building the font cache using fc-list. This may take a moment.')\n"
     ]
    }
   ],
   "source": [
    "%matplotlib inline\n",
    "import os\n",
    "os.environ['THEANO_FLAGS'] = \"mode=FAST_RUN,device=cpu,floatX=float32\"\n",
    "import theano\n",
    "import theano.tensor as T\n",
    "import config\n",
    "import numpy as np\n",
    "import matplotlib.pyplot as plt"
   ]
  },
  {
   "cell_type": "code",
   "execution_count": 5,
   "metadata": {
    "collapsed": true
   },
   "outputs": [],
   "source": [
    "import network\n",
    "import network.normFlow as nf\n",
    "import utils\n",
    "import utils.mathT as mathT\n",
    "import utils.theanoGeneral as utilsT\n",
    "import utils.optimizers as optimizers\n",
    "import utils.plotZ as plotZ\n",
    "import models.mars as model\n",
    "floatX = utils.floatX"
   ]
  },
  {
   "cell_type": "code",
   "execution_count": 41,
   "metadata": {
    "collapsed": false
   },
   "outputs": [],
   "source": [
    "# learning 3-dim tensors\n",
    "w = T.fmatrix()\n",
    "x = T.tensor3()\n",
    "y = T.dot( x, w )\n",
    "fy = theano.function([x,w],outputs=y)\n",
    "\n",
    "# mask = np.asarray([np.eye(2) for i in range(3)],dtype=floatX)\n",
    "i = theano.shared(np.arange(2))\n",
    "xdiag = x[:,i,i]\n",
    "fxdiag = theano.function( [x], outputs=xdiag  )"
   ]
  },
  {
   "cell_type": "code",
   "execution_count": 42,
   "metadata": {
    "collapsed": true
   },
   "outputs": [],
   "source": [
    "xn = np.asarray( [ [[0,0],[0,0]], [[1,1],[0,1]], [[1,2],[0,3]] ], dtype=floatX   )\n",
    "wn  = np.asarray( [ [0,0],[1,1] ], dtype=floatX ) "
   ]
  },
  {
   "cell_type": "code",
   "execution_count": null,
   "metadata": {
    "collapsed": false
   },
   "outputs": [],
   "source": []
  },
  {
   "cell_type": "code",
   "execution_count": 91,
   "metadata": {
    "collapsed": false,
    "scrolled": true
   },
   "outputs": [
    {
     "name": "stdout",
     "output_type": "stream",
     "text": [
      "[ 0.  1.  0.]\n"
     ]
    }
   ],
   "source": [
    "x = theano.shared(np.asarray(np.eye(3),dtype=floatX))\n",
    "print x[1].eval()"
   ]
  },
  {
   "cell_type": "code",
   "execution_count": 95,
   "metadata": {
    "collapsed": false
   },
   "outputs": [
    {
     "name": "stdout",
     "output_type": "stream",
     "text": [
      "[[[ 0.  1.]\n",
      "  [ 2.  3.]\n",
      "  [ 4.  5.]]\n",
      "\n",
      " [[ 1.  2.]\n",
      "  [ 3.  4.]\n",
      "  [ 5.  6.]]]\n"
     ]
    }
   ],
   "source": [
    "ys = list()\n",
    "for i in range(2):\n",
    "    y = theano.shared( np.asarray(np.arange(6)+i,dtype=floatX) )\n",
    "    ys.append(y)\n",
    "yy = T.concatenate(ys).reshape((2,3,2))\n",
    "print yy.eval()"
   ]
  },
  {
   "cell_type": "code",
   "execution_count": 88,
   "metadata": {
    "collapsed": true
   },
   "outputs": [
    {
     "name": "stdout",
     "output_type": "stream",
     "text": [
      "[[[[ 0.  1.  2.  3.]\n",
      "   [ 0.  1.  2.  3.]\n",
      "   [ 0.  1.  2.  3.]\n",
      "   [ 0.  1.  2.  3.]]\n",
      "\n",
      "  [[ 0.  1.  2.  3.]\n",
      "   [ 0.  1.  2.  3.]\n",
      "   [ 0.  1.  2.  3.]\n",
      "   [ 0.  1.  2.  3.]]\n",
      "\n",
      "  [[ 0.  1.  2.  3.]\n",
      "   [ 0.  1.  2.  3.]\n",
      "   [ 0.  1.  2.  3.]\n",
      "   [ 0.  1.  2.  3.]]]\n",
      "\n",
      "\n",
      " [[[ 0.  1.  2.  3.]\n",
      "   [ 0.  1.  2.  3.]\n",
      "   [ 0.  1.  2.  3.]\n",
      "   [ 0.  1.  2.  3.]]\n",
      "\n",
      "  [[ 0.  1.  2.  3.]\n",
      "   [ 0.  1.  2.  3.]\n",
      "   [ 0.  1.  2.  3.]\n",
      "   [ 0.  1.  2.  3.]]\n",
      "\n",
      "  [[ 0.  1.  2.  3.]\n",
      "   [ 0.  1.  2.  3.]\n",
      "   [ 0.  1.  2.  3.]\n",
      "   [ 0.  1.  2.  3.]]]]\n"
     ]
    }
   ],
   "source": [
    "x1n = np.ones((2,3,4))\n",
    "for i in range(2):\n",
    "    for j in range(3):\n",
    "        x1n[i,j,:] = np.arange(4)\n",
    "x1 = theano.shared(x1n)\n",
    "x2 = x1.dimshuffle(0,1,'x',2) + theano.shared(np.zeros((2,3,4,4)))\n",
    "print x2.eval()"
   ]
  },
  {
   "cell_type": "code",
   "execution_count": 102,
   "metadata": {
    "collapsed": false
   },
   "outputs": [
    {
     "name": "stdout",
     "output_type": "stream",
     "text": [
      "[[[ -1.   0.]\n",
      "  [  1.   2.]]\n",
      "\n",
      " [[  3.   4.]\n",
      "  [  5.   6.]]\n",
      "\n",
      " [[  7.   8.]\n",
      "  [  9.  10.]]]\n",
      "[[[ 0  1]\n",
      "  [ 2  3]]\n",
      "\n",
      " [[ 4  5]\n",
      "  [ 6  7]]\n",
      "\n",
      " [[ 8  9]\n",
      "  [10 11]]]\n"
     ]
    }
   ],
   "source": [
    "x1 = theano.shared(np.arange(12)).reshape((3,2,2))\n",
    "y1 = theano.shared(np.ones(3))\n",
    "y1_new = y1.dimshuffle(0,'x','x')\n",
    "z1 = x1 - y1_new\n",
    "print z1.eval()\n",
    "print x1.eval()"
   ]
  },
  {
   "cell_type": "code",
   "execution_count": null,
   "metadata": {
    "collapsed": true
   },
   "outputs": [],
   "source": []
  }
 ],
 "metadata": {
  "kernelspec": {
   "display_name": "Python 2",
   "language": "python",
   "name": "python2"
  },
  "language_info": {
   "codemirror_mode": {
    "name": "ipython",
    "version": 2
   },
   "file_extension": ".py",
   "mimetype": "text/x-python",
   "name": "python",
   "nbconvert_exporter": "python",
   "pygments_lexer": "ipython2",
   "version": "2.7.10"
  }
 },
 "nbformat": 4,
 "nbformat_minor": 0
}
