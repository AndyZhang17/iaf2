{
 "cells": [
  {
   "cell_type": "code",
   "execution_count": 1,
   "metadata": {
    "collapsed": false
   },
   "outputs": [
    {
     "name": "stderr",
     "output_type": "stream",
     "text": [
      "/Library/Python/2.7/site-packages/matplotlib/font_manager.py:273: UserWarning: Matplotlib is building the font cache using fc-list. This may take a moment.\n",
      "  warnings.warn('Matplotlib is building the font cache using fc-list. This may take a moment.')\n"
     ]
    }
   ],
   "source": [
    "'''\n",
    "AIM: to detect why logqz is under estimated, thus causing negative KL-div\n",
    "'''\n",
    "\n",
    "%matplotlib inline\n",
    "import os\n",
    "os.environ['THEANO_FLAGS'] = \"mode=FAST_RUN,device=cpu,floatX=float32\"\n",
    "import theano\n",
    "import theano.tensor as T\n",
    "import network\n",
    "import network.normFlow as nf\n",
    "import config\n",
    "import utils\n",
    "import utils.mathT as mathT\n",
    "import utils.theanoGeneral as utilsT\n",
    "import numpy as np\n",
    "import utils.optimizers as optimizers\n",
    "import utils.plotZ as plotZ\n",
    "import matplotlib.pyplot as plt\n",
    "floatX = utils.floatX"
   ]
  },
  {
   "cell_type": "code",
   "execution_count": 7,
   "metadata": {
    "collapsed": false
   },
   "outputs": [],
   "source": [
    "DIM = 2\n",
    "SAMPLINGNUM = 10000\n",
    "\n",
    "# construction variational model\n",
    "iaf = nf.NormFlowModel( dim=2, numlayers=1,noisestd=1. )  #(4./DIM)**.5\n",
    "e = T.fmatrix()\n",
    "z, logqz = iaf.reparam(e)\n",
    "fe = theano.function([e], outputs=[z,logqz])"
   ]
  },
  {
   "cell_type": "code",
   "execution_count": 3,
   "metadata": {
    "collapsed": true
   },
   "outputs": [],
   "source": [
    "w = np.asarray([[1,0],[0,1]], dtype=floatX)\n",
    "b = np.asarray( [0.5,-0.5],     dtype=floatX)\n",
    "u = np.asarray( [5,10 ],       dtype=floatX)\n",
    "iaf.layers[0].setParamValues( w,b,u )"
   ]
  },
  {
   "cell_type": "code",
   "execution_count": 4,
   "metadata": {
    "collapsed": false
   },
   "outputs": [
    {
     "name": "stdout",
     "output_type": "stream",
     "text": [
      "log p(e)\n",
      "[-1.83787707 -2.33787707 -2.08787707]\n",
      "log p(z)\n",
      "[-5.61572209 -6.11572209 -5.61713302]\n",
      "zsamples\n",
      "[[ 2.31058574 -4.62117147]\n",
      " [ 2.31058574  5.62117147]\n",
      " [ 4.307971    0.5       ]]\n"
     ]
    }
   ],
   "source": [
    "esamples = np.asarray( [[0,0],[0,1],[0.5,0.5]], dtype=floatX )\n",
    "zsamples = np.tanh( b + np.dot(esamples,w) ) * u + esamples\n",
    "\n",
    "\n",
    "from scipy.stats import multivariate_normal\n",
    "logpes = np.log( multivariate_normal.pdf(esamples, mean=[0,0], cov=np.eye(2)) )\n",
    "logpzs = np.zeros_like(logpes)\n",
    "for i, logpe in enumerate(logpes):\n",
    "    ei = esamples[i,:]\n",
    "    det1 = 1 + u[0] * ( np.cosh(b[0]+ei[0]*w[0,0]) )**(-2)              * w[0,0]\n",
    "    det2 = 1 + u[1] * ( np.cosh(b[1]+ei[0]*w[0,1]+ei[1]*w[1,1]) )**(-2) * w[1,1]\n",
    "    logpzs[i] = logpes[i] - np.log( np.abs(det1*det2) )\n",
    "print 'log p(e)\\n', logpes\n",
    "print 'log p(z)\\n', logpzs\n",
    "print 'zsamples\\n', zsamples"
   ]
  },
  {
   "cell_type": "code",
   "execution_count": 5,
   "metadata": {
    "collapsed": false
   },
   "outputs": [
    {
     "name": "stdout",
     "output_type": "stream",
     "text": [
      "zsamples by iaf model\n",
      "[[-4.62117147  2.31058574]\n",
      " [ 5.62117147  2.31058574]\n",
      " [ 0.5         4.307971  ]]\n",
      "log p(z)\n",
      "[-5.6157217  -6.1157217  -5.61713314]\n"
     ]
    }
   ],
   "source": [
    "print 'zsamples by iaf model\\n',fe(esamples)[0]\n",
    "print 'log p(z)\\n',fe(esamples)[1]"
   ]
  },
  {
   "cell_type": "code",
   "execution_count": 4,
   "metadata": {
    "collapsed": false
   },
   "outputs": [],
   "source": [
    "# function test for mathT.gmm\n",
    "\n",
    "means   = np.asarray( [[1.0,2.0],[1.0,2.0]] )\n",
    "varmats = np.asarray( [np.eye(2)/2, np.eye(2)/2] ) \n",
    "weights = np.asarray( [0.6,1.4] )\n",
    "\n",
    "e = T.fmatrix()\n",
    "pdfNorm = mathT.multiNormInit(means[0],varmats[0])\n",
    "pdfGmm  = mathT.multiGmm(means, varmats, weights)\n",
    "p1 = pdfNorm(e)\n",
    "p2 = pdfGmm(e)\n",
    "f1 = theano.function([e],outputs=p1)\n",
    "f2 = theano.function([e],outputs=p2)"
   ]
  },
  {
   "cell_type": "code",
   "execution_count": 7,
   "metadata": {
    "collapsed": false
   },
   "outputs": [
    {
     "name": "stdout",
     "output_type": "stream",
     "text": [
      "[ 0.00214475  0.11709964]\n",
      "[ 0.00214475  0.11709964]\n"
     ]
    }
   ],
   "source": [
    "esamples = np.asarray([[0,0],[1,1]], dtype=floatX)\n",
    "print(np.exp(f1(esamples)))\n",
    "print(np.exp(f2(esamples))/2)"
   ]
  },
  {
   "cell_type": "code",
   "execution_count": null,
   "metadata": {
    "collapsed": true
   },
   "outputs": [],
   "source": []
  }
 ],
 "metadata": {
  "kernelspec": {
   "display_name": "Python 2",
   "language": "python",
   "name": "python2"
  },
  "language_info": {
   "codemirror_mode": {
    "name": "ipython",
    "version": 2
   },
   "file_extension": ".py",
   "mimetype": "text/x-python",
   "name": "python",
   "nbconvert_exporter": "python",
   "pygments_lexer": "ipython2",
   "version": "2.7.10"
  }
 },
 "nbformat": 4,
 "nbformat_minor": 0
}
