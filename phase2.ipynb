{
 "cells": [
  {
   "cell_type": "code",
   "execution_count": 1,
   "metadata": {
    "collapsed": false
   },
   "outputs": [
    {
     "name": "stderr",
     "output_type": "stream",
     "text": [
      "/Library/Python/2.7/site-packages/matplotlib/font_manager.py:273: UserWarning: Matplotlib is building the font cache using fc-list. This may take a moment.\n",
      "  warnings.warn('Matplotlib is building the font cache using fc-list. This may take a moment.')\n"
     ]
    }
   ],
   "source": [
    "#\n",
    "# phase2 :\n",
    "#   Banana model inference\n",
    "#\n",
    "%matplotlib inline\n",
    "import os\n",
    "os.environ['THEANO_FLAGS'] = \"mode=FAST_RUN,device=cpu,floatX=float32\"\n",
    "import theano\n",
    "import theano.tensor as T\n",
    "import config\n",
    "import numpy as np\n",
    "import matplotlib.pyplot as plt"
   ]
  },
  {
   "cell_type": "code",
   "execution_count": 2,
   "metadata": {
    "collapsed": true
   },
   "outputs": [],
   "source": [
    "import network\n",
    "import network.normFlow as nf\n",
    "import utils\n",
    "import utils.mathT as mathT\n",
    "import utils.theanoGeneral as utilsT\n",
    "import utils.optimizers as optimizers\n",
    "import utils.plotZ as plotZ\n",
    "import models.mars as model"
   ]
  },
  {
   "cell_type": "code",
   "execution_count": 44,
   "metadata": {
    "collapsed": false
   },
   "outputs": [],
   "source": [
    "DIM = 2\n",
    "SAMPLINGNUM = 30\n",
    "floatX = utils.floatX\n",
    "\n",
    "x = T.fscalar()\n",
    "\n",
    "# constructing graphical model\n",
    "mb = model.Banana()\n",
    "mb.setX(-4)\n",
    "mb.setStd(0.8)"
   ]
  },
  {
   "cell_type": "code",
   "execution_count": 45,
   "metadata": {
    "collapsed": false
   },
   "outputs": [],
   "source": [
    "# construction variational model\n",
    "iaf = nf.NormFlowModel( dim=2, numlayers=4,noisestd=1. )  #(4./DIM)**.5\n",
    "e = iaf.getNoiseVar(SAMPLINGNUM)\n",
    "z, logqz = iaf.reparam(e)\n",
    "\n",
    "# setting cost variable\n",
    "logpxz = mb.logPxz(z)\n",
    "cost = T.mean( logqz - logpxz ) # KL cost\n",
    "\n",
    "params = iaf.getParams()\n",
    "grads = [ T.grad(cost,p,consider_constant=[e]) for p in params ]"
   ]
  },
  {
   "cell_type": "code",
   "execution_count": 46,
   "metadata": {
    "collapsed": false
   },
   "outputs": [],
   "source": [
    "# optimisation setup\n",
    "iaf.reInit()\n",
    "# opt = optimizers.Adadelta(params)\n",
    "opt = optimizers.SGD(params,lr=0.05,momentum=0.5,decay=0.001)\n",
    "updates = opt.getUpdates(params,grads)\n",
    "\n",
    "outputs = [ cost, T.mean(logpxz), T.mean(logqz) ]\n",
    "estep = theano.function(inputs=[],outputs=outputs,updates=updates)"
   ]
  },
  {
   "cell_type": "code",
   "execution_count": 61,
   "metadata": {
    "collapsed": true
   },
   "outputs": [],
   "source": [
    "# training\n",
    "NUMITER = 1000\n",
    "keys = ['cost','pxz','qz']\n",
    "record = {}\n",
    "mb.setStd(0.5)\n",
    "for k in keys:\n",
    "    record[k] = []\n",
    "for i in range(NUMITER):\n",
    "    out = estep()\n",
    "    \n",
    "    for i,q in enumerate(out):\n",
    "        record[keys[i]].append( q )\n",
    "        \n",
    "for k in keys:\n",
    "    record[k] = np.asarray( record[k] )"
   ]
  },
  {
   "cell_type": "code",
   "execution_count": 62,
   "metadata": {
    "collapsed": false
   },
   "outputs": [
    {
     "data": {
      "image/png": "[encoded data removed]",
      "text/plain": [
       "<matplotlib.figure.Figure at 0x10fb5d750>"
      ]
     },
     "metadata": {},
     "output_type": "display_data"
    }
   ],
   "source": [
    "# plt.plot( range(NUMITER), record['cost'],'-' )\n",
    "# plt.show()\n",
    "xs = range(NUMITER)\n",
    "plt.plot( xs, record['pxz'], '-', label='log-pxz')\n",
    "plt.plot( xs, record['qz'], '-', label='log-qz')\n",
    "plt.plot( xs, record['cost'], '-', label='logqz-logpz')\n",
    "plt.legend()\n",
    "plt.show()"
   ]
  },
  {
   "cell_type": "code",
   "execution_count": null,
   "metadata": {
    "collapsed": true
   },
   "outputs": [],
   "source": [
    "e2 = iaf.getNoiseVar(2000)\n",
    "z2, logqz2 = iaf.reparam(e2)\n",
    "fez2 = theano.function(inputs=[],outputs=[e2,z2])"
   ]
  },
  {
   "cell_type": "code",
   "execution_count": 43,
   "metadata": {
    "collapsed": false
   },
   "outputs": [
    {
     "name": "stdout",
     "output_type": "stream",
     "text": [
      "(2000, 2) (2000, 2)\n"
     ]
    },
    {
     "data": {
      "image/png": "[encoded data removed]",
      "text/plain": [
       "<matplotlib.figure.Figure at 0x1159f0550>"
      ]
     },
     "metadata": {},
     "output_type": "display_data"
    },
    {
     "name": "stdout",
     "output_type": "stream",
     "text": [
      "(2000, 2)\n",
      "nan\n"
     ]
    }
   ],
   "source": [
    "es, zs = fez2()\n",
    "print es.shape, zs.shape\n",
    "# plt.plot(es[:,0],es[:,1],'.',label='e')\n",
    "plt.plot(zs[:,0],zs[:,1],'.',label='z')\n",
    "plt.legend(loc=1)\n",
    "plt.show()\n",
    "print zs.shape\n",
    "print np.mean(np.prod(zs,axis=1))"
   ]
  },
  {
   "cell_type": "code",
   "execution_count": null,
   "metadata": {
    "collapsed": true
   },
   "outputs": [],
   "source": []
  }
 ],
 "metadata": {
  "kernelspec": {
   "display_name": "Python 2",
   "language": "python",
   "name": "python2"
  },
  "language_info": {
   "codemirror_mode": {
    "name": "ipython",
    "version": 2
   },
   "file_extension": ".py",
   "mimetype": "text/x-python",
   "name": "python",
   "nbconvert_exporter": "python",
   "pygments_lexer": "ipython2",
   "version": "2.7.10"
  }
 },
 "nbformat": 4,
 "nbformat_minor": 0
}
