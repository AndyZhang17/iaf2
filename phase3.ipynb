{
 "cells": [
  {
   "cell_type": "code",
   "execution_count": 1,
   "metadata": {
    "collapsed": true
   },
   "outputs": [
    {
     "name": "stderr",
     "output_type": "stream",
     "text": [
      "/Library/Python/2.7/site-packages/matplotlib/font_manager.py:273: UserWarning: Matplotlib is building the font cache using fc-list. This may take a moment.\n",
      "  warnings.warn('Matplotlib is building the font cache using fc-list. This may take a moment.')\n"
     ]
    }
   ],
   "source": [
    "#\n",
    "# phase3 :\n",
    "#   model inference and learning\n",
    "#\n",
    "%matplotlib inline\n",
    "import os\n",
    "os.environ['THEANO_FLAGS'] = \"mode=FAST_RUN,device=cpu,floatX=float32\"\n",
    "import theano\n",
    "import theano.tensor as T\n",
    "import config\n",
    "import numpy as np\n",
    "import matplotlib.pyplot as plt"
   ]
  },
  {
   "cell_type": "code",
   "execution_count": 2,
   "metadata": {
    "collapsed": true
   },
   "outputs": [],
   "source": [
    "import network\n",
    "import network.normFlow as nf\n",
    "import utils\n",
    "import utils.mathT as mathT\n",
    "import utils.theanoGeneral as utilsT\n",
    "import utils.optimizers as optimizers\n",
    "import utils.data as utilsD\n",
    "import utils.plotZ as plotZ\n",
    "import models.mars as model\n",
    "DIM = 2\n",
    "floatX = utils.floatX"
   ]
  },
  {
   "cell_type": "code",
   "execution_count": 3,
   "metadata": {
    "collapsed": true
   },
   "outputs": [],
   "source": [
    "# data generation\n",
    "mb = model.Banana()\n",
    "mb.setTrueStd(0.7)\n",
    "mb.generate(100,'./data/banana1')"
   ]
  },
  {
   "cell_type": "code",
   "execution_count": 4,
   "metadata": {
    "collapsed": false
   },
   "outputs": [],
   "source": [
    "# constructing graphical model\n",
    "mb = model.Banana()\n",
    "x = T.fscalar('x')\n",
    "mb.setX(x)\n",
    "mb.setStd(1.0)\n",
    "# TODO: modify model to deal with minibatch circumstances"
   ]
  },
  {
   "cell_type": "code",
   "execution_count": 21,
   "metadata": {
    "collapsed": true
   },
   "outputs": [
    {
     "name": "stdout",
     "output_type": "stream",
     "text": [
      "Size of dataset : 100.\n"
     ]
    },
    {
     "data": {
      "image/png": "[encoded data removed]",
      "text/plain": [
       "<matplotlib.figure.Figure at 0x10d760f10>"
      ]
     },
     "metadata": {},
     "output_type": "display_data"
    },
    {
     "data": {
      "image/png": "[encoded data removed]",
      "text/plain": [
       "<matplotlib.figure.Figure at 0x10e060690>"
      ]
     },
     "metadata": {},
     "output_type": "display_data"
    }
   ],
   "source": [
    "# loading data to object.Dataset0\n",
    "rawd = np.load('./data/banana1.npz')\n",
    "data = utilsD.Dataset0(rawd,autoreshuffle=True，verbose=True)\n",
    "NUMX = data.getSize()\n",
    "\n",
    "print ( 'Size of dataset : %d.'%NUMX )\n",
    "# plt.plot(x,'.') # plt.show()\n",
    "plt.hist( x-np.prod(z,axis=1), bins=20 )\n",
    "plt.show()"
   ]
  },
  {
   "cell_type": "code",
   "execution_count": null,
   "metadata": {
    "collapsed": true
   },
   "outputs": [],
   "source": []
  },
  {
   "cell_type": "code",
   "execution_count": 28,
   "metadata": {
    "collapsed": true
   },
   "outputs": [],
   "source": [
    "MINI_BATCH = 10\n",
    "data.setBatchSize(MINI_BATCH)\n",
    "\n",
    "SAMPLINGNUM = 30\n",
    "iafs = {}\n",
    "keys = ['models','es','zs','logqzs']\n",
    "for k in keys:\n",
    "    iafs[k] = list()\n",
    "    \n",
    "for i in range(MINI_BATCH):\n",
    "    model = nf.NormFlowModel(dim=2, numlayers=6, noisestd=1.)\n",
    "    e = model.getNoiseVar( SAMPLINGNUM )\n",
    "    z,logqz = model.reparam(e)\n",
    "    \n",
    "    iafs['models'].append( model )\n",
    "    iafs['es'].append( e )\n",
    "    iafs['zs'].append( z )\n",
    "    iafs['logqzs'].append( logqz )"
   ]
  },
  {
   "cell_type": "code",
   "execution_count": 29,
   "metadata": {
    "collapsed": true
   },
   "outputs": [
    {
     "ename": "AttributeError",
     "evalue": "'NormFlowModel' object has no attribute 'getParamValues'",
     "output_type": "error",
     "traceback": [
      "\u001b[0;31m---------------------------------------------------------------------------\u001b[0m",
      "\u001b[0;31mAttributeError\u001b[0m                            Traceback (most recent call last)",
      "\u001b[0;32m<ipython-input-29-89f1056688b1>\u001b[0m in \u001b[0;36m<module>\u001b[0;34m()\u001b[0m\n\u001b[1;32m      3\u001b[0m \u001b[0;32mfor\u001b[0m \u001b[0mi\u001b[0m \u001b[0;32min\u001b[0m \u001b[0mrange\u001b[0m\u001b[0;34m(\u001b[0m\u001b[0mNUMX\u001b[0m\u001b[0;34m)\u001b[0m\u001b[0;34m:\u001b[0m\u001b[0;34m\u001b[0m\u001b[0m\n\u001b[1;32m      4\u001b[0m     \u001b[0mvimodel\u001b[0m \u001b[0;34m=\u001b[0m \u001b[0miafs\u001b[0m\u001b[0;34m[\u001b[0m\u001b[0;34m'models'\u001b[0m\u001b[0;34m]\u001b[0m\u001b[0;34m[\u001b[0m\u001b[0;36m0\u001b[0m\u001b[0;34m]\u001b[0m\u001b[0;34m\u001b[0m\u001b[0m\n\u001b[0;32m----> 5\u001b[0;31m     \u001b[0mviparams\u001b[0m\u001b[0;34m.\u001b[0m\u001b[0mappend\u001b[0m\u001b[0;34m(\u001b[0m\u001b[0mvimodel\u001b[0m\u001b[0;34m.\u001b[0m\u001b[0mgetParamValues\u001b[0m\u001b[0;34m(\u001b[0m\u001b[0;34m)\u001b[0m\u001b[0;34m)\u001b[0m\u001b[0;34m\u001b[0m\u001b[0m\n\u001b[0m",
      "\u001b[0;31mAttributeError\u001b[0m: 'NormFlowModel' object has no attribute 'getParamValues'"
     ]
    }
   ],
   "source": [
    "# set VI local parameters\n",
    "viparams = list()\n",
    "for i in range(NUMX):\n",
    "    vimodel = iafs['models'][0]\n",
    "    viparams.append(vimodel.getParamValues())"
   ]
  },
  {
   "cell_type": "code",
   "execution_count": 4,
   "metadata": {
    "collapsed": false
   },
   "outputs": [],
   "source": [
    "# construction variational model\n",
    "# iaf = nf.NormFlowModel( dim=2, numlayers=16,noisestd=1. )  #(4./DIM)**.5\n",
    "# e = iaf.getNoiseVar(SAMPLINGNUM)\n",
    "# z, logqz = iaf.reparam(e)\n",
    "\n",
    "# setting cost variable\n",
    "logpxz, _, _ = mb.logPxz(z)\n",
    "cost = T.mean( logqz - logpxz ) # KL cost\n",
    "\n",
    "params = iaf.getParams()\n",
    "grads = [ T.grad(cost,p,consider_constant=[e]) for p in params ]"
   ]
  },
  {
   "cell_type": "code",
   "execution_count": 11,
   "metadata": {
    "collapsed": false
   },
   "outputs": [],
   "source": [
    "# optimisation setup\n",
    "iaf.reInit()\n",
    "# opt = optimizers.Adadelta(params)\n",
    "opt = optimizers.SGD(params,lr=0.05,momentum=0.5,decay=0.001)\n",
    "updates = opt.getUpdates(params,grads)\n",
    "\n",
    "outputs = [ cost, T.mean(logpxz), T.mean(logqz) ]\n",
    "estep = theano.function(inputs=[x],outputs=outputs,updates=updates)"
   ]
  },
  {
   "cell_type": "code",
   "execution_count": 26,
   "metadata": {
    "collapsed": true
   },
   "outputs": [],
   "source": [
    "# training\n",
    "NUMITER = 1000\n",
    "keys = ['cost','pxz','qz']\n",
    "record = {}\n",
    "mb.setStd(0.5)\n",
    "for k in keys:\n",
    "    record[k] = []\n",
    "for i in range(NUMITER):\n",
    "    # running updates\n",
    "    out = estep(3.)\n",
    "    \n",
    "    for i,q in enumerate(out):\n",
    "        record[keys[i]].append( q )        \n",
    "for k in keys:\n",
    "    record[k] = np.asarray( record[k] )"
   ]
  },
  {
   "cell_type": "code",
   "execution_count": 27,
   "metadata": {
    "collapsed": false
   },
   "outputs": [
    {
     "data": {
      "image/png": "[encoded data removed]",
      "text/plain": [
       "<matplotlib.figure.Figure at 0x11975d610>"
      ]
     },
     "metadata": {},
     "output_type": "display_data"
    }
   ],
   "source": [
    "# plt.plot( range(NUMITER), record['cost'],'-' )\n",
    "# plt.show()\n",
    "xs = range(NUMITER)\n",
    "plt.plot( xs, record['pxz'], '-', label='log-pxz')\n",
    "plt.plot( xs, record['qz'], '-', label='log-qz')\n",
    "plt.plot( xs, record['cost'], '-', label='logqz-logpz')\n",
    "plt.legend()\n",
    "plt.show()"
   ]
  },
  {
   "cell_type": "code",
   "execution_count": 14,
   "metadata": {
    "collapsed": true
   },
   "outputs": [],
   "source": [
    "e2 = iaf.getNoiseVar(2000)\n",
    "z2, logqz2 = iaf.reparam(e2)\n",
    "fez2 = theano.function(inputs=[],outputs=[e2,z2])"
   ]
  },
  {
   "cell_type": "code",
   "execution_count": 15,
   "metadata": {
    "collapsed": false
   },
   "outputs": [
    {
     "name": "stdout",
     "output_type": "stream",
     "text": [
      "(2000, 2) (2000, 2)\n"
     ]
    },
    {
     "data": {
      "image/png": "[encoded data removed]",
      "text/plain": [
       "<matplotlib.figure.Figure at 0x1151a5c50>"
      ]
     },
     "metadata": {},
     "output_type": "display_data"
    },
    {
     "name": "stdout",
     "output_type": "stream",
     "text": [
      "(2000, 2)\n",
      "2.00271\n"
     ]
    }
   ],
   "source": [
    "es, zs = fez2()\n",
    "print es.shape, zs.shape\n",
    "# plt.plot(es[:,0],es[:,1],'.',label='e')\n",
    "plt.plot(zs[:,0],zs[:,1],'.',label='z')\n",
    "plt.legend(loc=1)\n",
    "plt.show()\n",
    "print zs.shape\n",
    "print np.mean(np.prod(zs,axis=1))"
   ]
  },
  {
   "cell_type": "code",
   "execution_count": 3,
   "metadata": {
    "collapsed": false
   },
   "outputs": [
    {
     "ename": "TypeError",
     "evalue": "update expected at most 1 arguments, got 2",
     "output_type": "error",
     "traceback": [
      "\u001b[0;31m---------------------------------------------------------------------------\u001b[0m",
      "\u001b[0;31mTypeError\u001b[0m                                 Traceback (most recent call last)",
      "\u001b[0;32m<ipython-input-3-91daa32b270e>\u001b[0m in \u001b[0;36m<module>\u001b[0;34m()\u001b[0m\n\u001b[1;32m      1\u001b[0m \u001b[0mout\u001b[0m \u001b[0;34m=\u001b[0m \u001b[0mdict\u001b[0m\u001b[0;34m(\u001b[0m\u001b[0;34m)\u001b[0m\u001b[0;34m\u001b[0m\u001b[0m\n\u001b[1;32m      2\u001b[0m \u001b[0mkeys\u001b[0m \u001b[0;34m=\u001b[0m \u001b[0;34m[\u001b[0m\u001b[0;34m'a'\u001b[0m\u001b[0;34m,\u001b[0m\u001b[0;34m'b'\u001b[0m\u001b[0;34m]\u001b[0m\u001b[0;34m\u001b[0m\u001b[0m\n\u001b[0;32m----> 3\u001b[0;31m \u001b[0mout\u001b[0m\u001b[0;34m.\u001b[0m\u001b[0mupdate\u001b[0m\u001b[0;34m(\u001b[0m \u001b[0mkeys\u001b[0m\u001b[0;34m,\u001b[0m\u001b[0;34m(\u001b[0m\u001b[0;36m2\u001b[0m\u001b[0;34m,\u001b[0m\u001b[0;36m3\u001b[0m\u001b[0;34m)\u001b[0m \u001b[0;34m)\u001b[0m\u001b[0;34m\u001b[0m\u001b[0m\n\u001b[0m",
      "\u001b[0;31mTypeError\u001b[0m: update expected at most 1 arguments, got 2"
     ]
    }
   ],
   "source": [
    "out = dict()\n",
    "keys = ['a','b']\n",
    "out.update( )"
   ]
  },
  {
   "cell_type": "code",
   "execution_count": null,
   "metadata": {
    "collapsed": true
   },
   "outputs": [],
   "source": []
  }
 ],
 "metadata": {
  "kernelspec": {
   "display_name": "Python 2",
   "language": "python",
   "name": "python2"
  },
  "language_info": {
   "codemirror_mode": {
    "name": "ipython",
    "version": 2
   },
   "file_extension": ".py",
   "mimetype": "text/x-python",
   "name": "python",
   "nbconvert_exporter": "python",
   "pygments_lexer": "ipython2",
   "version": "2.7.10"
  }
 },
 "nbformat": 4,
 "nbformat_minor": 0
}
